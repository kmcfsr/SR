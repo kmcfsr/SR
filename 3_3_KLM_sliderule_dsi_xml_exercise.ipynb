{
 "cells": [
  {
   "cell_type": "markdown",
   "metadata": {},
   "source": [
    "# XML example and exercise\n",
    "****\n",
    "+ study examples of accessing nodes in XML tree structure  \n",
    "+ work on exercise to be completed and submitted\n",
    "****\n",
    "+ reference: https://docs.python.org/2.7/library/xml.etree.elementtree.html\n",
    "+ data source: http://www.dbis.informatik.uni-goettingen.de/Mondial\n",
    "****"
   ]
  },
  {
   "cell_type": "code",
   "execution_count": 1,
   "metadata": {
    "collapsed": true
   },
   "outputs": [],
   "source": [
    "from xml.etree import ElementTree as ET"
   ]
  },
  {
   "cell_type": "markdown",
   "metadata": {},
   "source": [
    "## XML example\n",
    "\n",
    "+ for details about tree traversal and iterators, see https://docs.python.org/2.7/library/xml.etree.elementtree.html"
   ]
  },
  {
   "cell_type": "code",
   "execution_count": 2,
   "metadata": {
    "collapsed": true
   },
   "outputs": [],
   "source": [
    "document_tree = ET.parse( './data/mondial_database_less.xml' )"
   ]
  },
  {
   "cell_type": "code",
   "execution_count": 3,
   "metadata": {
    "collapsed": false
   },
   "outputs": [
    {
     "name": "stdout",
     "output_type": "stream",
     "text": [
      "Albania\n",
      "Greece\n",
      "Macedonia\n",
      "Serbia\n",
      "Montenegro\n",
      "Kosovo\n",
      "Andorra\n"
     ]
    }
   ],
   "source": [
    "# print names of all countries\n",
    "for child in document_tree.getroot():\n",
    "    print child.find('name').text"
   ]
  },
  {
   "cell_type": "code",
   "execution_count": 4,
   "metadata": {
    "collapsed": false
   },
   "outputs": [
    {
     "name": "stdout",
     "output_type": "stream",
     "text": [
      "* Albania: Tirana, Shkodër, Durrës, Vlorë, Elbasan, Korçë\n",
      "* Greece: Komotini, Kavala, Athina, Peiraias, Peristeri, Acharnes, Patra, Kozani, Kerkyra, Ioannina, Thessaloniki, Iraklio, Chania, Ermoupoli, Rhodes, Tripoli, Lamia, Chalkida, Larissa, Volos, Mytilini, Karyes\n",
      "* Macedonia: Skopje, Kumanovo\n",
      "* Serbia: Beograd, Novi Sad, Niš\n",
      "* Montenegro: Podgorica\n",
      "* Kosovo: Prishtine\n",
      "* Andorra: Andorra la Vella\n"
     ]
    }
   ],
   "source": [
    "# print names of all countries and their cities\n",
    "for element in document_tree.iterfind('country'):\n",
    "    print '* ' + element.find('name').text + ':',\n",
    "    capitals_string = ''\n",
    "    for subelement in element.getiterator('city'):\n",
    "        capitals_string += subelement.find('name').text + ', '\n",
    "    print capitals_string[:-2] #-2 to remove trailing comma"
   ]
  },
  {
   "cell_type": "markdown",
   "metadata": {},
   "source": [
    "****\n",
    "## XML exercise\n",
    "\n",
    "Using data in 'data/mondial_database.xml', the examples above, and refering to https://docs.python.org/2.7/library/xml.etree.elementtree.html, find\n",
    "\n",
    "1. 10 countries with the lowest infant mortality rates\n",
    "2. 10 cities with the largest population\n",
    "3. 10 ethnic groups with the largest overall populations (sum of best/latest estimates over all countries)\n",
    "4. name and country of a) longest river, b) largest lake and c) airport at highest elevation"
   ]
  },
  {
   "cell_type": "code",
   "execution_count": 5,
   "metadata": {
    "collapsed": true
   },
   "outputs": [],
   "source": [
    "document = ET.parse( './data/mondial_database.xml' )"
   ]
  },
  {
   "cell_type": "code",
   "execution_count": 6,
   "metadata": {
    "collapsed": true
   },
   "outputs": [],
   "source": [
    "import pandas as pd\n",
    "import numpy as np"
   ]
  },
  {
   "cell_type": "markdown",
   "metadata": {},
   "source": [
    "### 1. 10 countries with the lowest infant mortality rates"
   ]
  },
  {
   "cell_type": "code",
   "execution_count": 7,
   "metadata": {
    "collapsed": false
   },
   "outputs": [
    {
     "data": {
      "text/html": [
       "<div>\n",
       "<table border=\"1\" class=\"dataframe\">\n",
       "  <thead>\n",
       "    <tr style=\"text-align: right;\">\n",
       "      <th></th>\n",
       "      <th>Country</th>\n",
       "      <th>IMRate</th>\n",
       "    </tr>\n",
       "  </thead>\n",
       "  <tbody>\n",
       "    <tr>\n",
       "      <th>36</th>\n",
       "      <td>Monaco</td>\n",
       "      <td>1.81</td>\n",
       "    </tr>\n",
       "    <tr>\n",
       "      <th>90</th>\n",
       "      <td>Japan</td>\n",
       "      <td>2.13</td>\n",
       "    </tr>\n",
       "    <tr>\n",
       "      <th>109</th>\n",
       "      <td>Bermuda</td>\n",
       "      <td>2.48</td>\n",
       "    </tr>\n",
       "    <tr>\n",
       "      <th>34</th>\n",
       "      <td>Norway</td>\n",
       "      <td>2.48</td>\n",
       "    </tr>\n",
       "    <tr>\n",
       "      <th>98</th>\n",
       "      <td>Singapore</td>\n",
       "      <td>2.53</td>\n",
       "    </tr>\n",
       "    <tr>\n",
       "      <th>35</th>\n",
       "      <td>Sweden</td>\n",
       "      <td>2.60</td>\n",
       "    </tr>\n",
       "    <tr>\n",
       "      <th>8</th>\n",
       "      <td>Czech Republic</td>\n",
       "      <td>2.63</td>\n",
       "    </tr>\n",
       "    <tr>\n",
       "      <th>72</th>\n",
       "      <td>Hong Kong</td>\n",
       "      <td>2.73</td>\n",
       "    </tr>\n",
       "    <tr>\n",
       "      <th>73</th>\n",
       "      <td>Macao</td>\n",
       "      <td>3.13</td>\n",
       "    </tr>\n",
       "    <tr>\n",
       "      <th>39</th>\n",
       "      <td>Iceland</td>\n",
       "      <td>3.15</td>\n",
       "    </tr>\n",
       "  </tbody>\n",
       "</table>\n",
       "</div>"
      ],
      "text/plain": [
       "            Country  IMRate\n",
       "36           Monaco    1.81\n",
       "90            Japan    2.13\n",
       "109         Bermuda    2.48\n",
       "34           Norway    2.48\n",
       "98        Singapore    2.53\n",
       "35           Sweden    2.60\n",
       "8    Czech Republic    2.63\n",
       "72        Hong Kong    2.73\n",
       "73            Macao    3.13\n",
       "39          Iceland    3.15"
      ]
     },
     "execution_count": 7,
     "metadata": {},
     "output_type": "execute_result"
    }
   ],
   "source": [
    "# print names of all countries and their infant mortality rate if it is present\n",
    "im = []\n",
    "for country in document.findall( 'country' ):\n",
    "    if country.find('infant_mortality') != None:\n",
    "        im.append((country.find('name').text, float(country.find('infant_mortality').text)))\n",
    "im_df = pd.DataFrame(im,columns=['Country', 'IMRate'])\n",
    "im_df.sort('IMRate').head(10)"
   ]
  },
  {
   "cell_type": "markdown",
   "metadata": {},
   "source": [
    "### 2. 10 cities with the largest population"
   ]
  },
  {
   "cell_type": "code",
   "execution_count": 8,
   "metadata": {
    "collapsed": false
   },
   "outputs": [
    {
     "data": {
      "text/html": [
       "<div>\n",
       "<table border=\"1\" class=\"dataframe\">\n",
       "  <thead>\n",
       "    <tr style=\"text-align: right;\">\n",
       "      <th></th>\n",
       "      <th>Country</th>\n",
       "      <th>City</th>\n",
       "      <th>Year</th>\n",
       "      <th>Population</th>\n",
       "    </tr>\n",
       "  </thead>\n",
       "  <tbody>\n",
       "    <tr>\n",
       "      <th>644</th>\n",
       "      <td>China</td>\n",
       "      <td>Shanghai</td>\n",
       "      <td>2010</td>\n",
       "      <td>22315474</td>\n",
       "    </tr>\n",
       "    <tr>\n",
       "      <th>2522</th>\n",
       "      <td>Turkey</td>\n",
       "      <td>Istanbul</td>\n",
       "      <td>2012</td>\n",
       "      <td>13710512</td>\n",
       "    </tr>\n",
       "    <tr>\n",
       "      <th>1215</th>\n",
       "      <td>India</td>\n",
       "      <td>Mumbai</td>\n",
       "      <td>2011</td>\n",
       "      <td>12442373</td>\n",
       "    </tr>\n",
       "    <tr>\n",
       "      <th>2113</th>\n",
       "      <td>Russia</td>\n",
       "      <td>Moskva</td>\n",
       "      <td>2013</td>\n",
       "      <td>11979529</td>\n",
       "    </tr>\n",
       "    <tr>\n",
       "      <th>469</th>\n",
       "      <td>China</td>\n",
       "      <td>Beijing</td>\n",
       "      <td>2010</td>\n",
       "      <td>11716620</td>\n",
       "    </tr>\n",
       "    <tr>\n",
       "      <th>356</th>\n",
       "      <td>Brazil</td>\n",
       "      <td>São Paulo</td>\n",
       "      <td>2010</td>\n",
       "      <td>11152344</td>\n",
       "    </tr>\n",
       "    <tr>\n",
       "      <th>672</th>\n",
       "      <td>China</td>\n",
       "      <td>Tianjin</td>\n",
       "      <td>2010</td>\n",
       "      <td>11090314</td>\n",
       "    </tr>\n",
       "    <tr>\n",
       "      <th>518</th>\n",
       "      <td>China</td>\n",
       "      <td>Guangzhou</td>\n",
       "      <td>2010</td>\n",
       "      <td>11071424</td>\n",
       "    </tr>\n",
       "    <tr>\n",
       "      <th>1184</th>\n",
       "      <td>India</td>\n",
       "      <td>Delhi</td>\n",
       "      <td>2011</td>\n",
       "      <td>11034555</td>\n",
       "    </tr>\n",
       "    <tr>\n",
       "      <th>655</th>\n",
       "      <td>China</td>\n",
       "      <td>Shenzhen</td>\n",
       "      <td>2010</td>\n",
       "      <td>10358381</td>\n",
       "    </tr>\n",
       "  </tbody>\n",
       "</table>\n",
       "</div>"
      ],
      "text/plain": [
       "     Country       City  Year  Population\n",
       "644    China   Shanghai  2010    22315474\n",
       "2522  Turkey   Istanbul  2012    13710512\n",
       "1215   India     Mumbai  2011    12442373\n",
       "2113  Russia     Moskva  2013    11979529\n",
       "469    China    Beijing  2010    11716620\n",
       "356   Brazil  São Paulo  2010    11152344\n",
       "672    China    Tianjin  2010    11090314\n",
       "518    China  Guangzhou  2010    11071424\n",
       "1184   India      Delhi  2011    11034555\n",
       "655    China   Shenzhen  2010    10358381"
      ]
     },
     "execution_count": 8,
     "metadata": {},
     "output_type": "execute_result"
    }
   ],
   "source": [
    "cpop = []\n",
    "for country in document.findall( 'country' ):\n",
    "    if  country.find('province') != None:\n",
    "        for province in country.iterfind('province'):\n",
    "            for city in province.iterfind('city'):\n",
    "                if city.find('population') != None:\n",
    "                    for pop in city.iterfind('population'):\n",
    "                        cpop.append((country.find('name').text,city.find('name').text,int(pop.attrib['year']), int(pop.text)))\n",
    "        \n",
    "    elif  country.find('city') != None:\n",
    "        for city in country.iterfind('city'):\n",
    "            if city.find('population') != None:\n",
    "                for pop in city.iterfind('population'):\n",
    "                    cpop.append((country.find('name').text,city.find('name').text,int(pop.attrib['year']), int(pop.text)))\n",
    "                                \n",
    "                \n",
    "cpop_df = pd.DataFrame(cpop,columns=['Country', 'City','Year','Population'])\n",
    "maxdf = cpop_df.groupby(['Country','City'],as_index = False)['Year'].max()\n",
    "\n",
    "result  = pd.merge(maxdf, cpop_df,how ='left' ,on=['Country', 'City','Year'] )\n",
    "result.sort('Population',ascending=False).head(10)\n",
    "# result[result['City'].str.contains('New York')]\n",
    "# result[result['City'].str.contains('London')]\n",
    "# result[result['Country'].str.contains('Uganda')]\n",
    "\n"
   ]
  },
  {
   "cell_type": "markdown",
   "metadata": {
    "collapsed": true
   },
   "source": [
    "### 3. 10 ethnic groups with the largest overall populations (sum of best/latest estimates over all countries)"
   ]
  },
  {
   "cell_type": "code",
   "execution_count": 9,
   "metadata": {
    "collapsed": false
   },
   "outputs": [],
   "source": [
    "# Get populations at country level\n",
    "CtryPops = []\n",
    "for country in document.findall( 'country' ):\n",
    "    if country.find('population') != None:\n",
    "        CtryPops.append((country.find('name').text, int(country.find('population').text)))\n",
    "        \n",
    "\n",
    "CtryPopsdf = pd.DataFrame(CtryPops,columns = ['Country','Population'])\n",
    "\n",
    "# CtryPopsdf.head()\n",
    "# CtryPopsdf[CtryPopsdf['Country']== 'Mauritius']"
   ]
  },
  {
   "cell_type": "code",
   "execution_count": 10,
   "metadata": {
    "collapsed": false
   },
   "outputs": [
    {
     "data": {
      "text/html": [
       "<div>\n",
       "<table border=\"1\" class=\"dataframe\">\n",
       "  <thead>\n",
       "    <tr style=\"text-align: right;\">\n",
       "      <th></th>\n",
       "      <th>EthnicPop</th>\n",
       "    </tr>\n",
       "    <tr>\n",
       "      <th>EthnicGrp</th>\n",
       "      <th></th>\n",
       "    </tr>\n",
       "  </thead>\n",
       "  <tbody>\n",
       "    <tr>\n",
       "      <th>Han Chinese</th>\n",
       "      <td>4.975551e+08</td>\n",
       "    </tr>\n",
       "    <tr>\n",
       "      <th>European</th>\n",
       "      <td>1.928658e+08</td>\n",
       "    </tr>\n",
       "    <tr>\n",
       "      <th>Indo-Aryan</th>\n",
       "      <td>1.716454e+08</td>\n",
       "    </tr>\n",
       "    <tr>\n",
       "      <th>Russian</th>\n",
       "      <td>9.275844e+07</td>\n",
       "    </tr>\n",
       "    <tr>\n",
       "      <th>African</th>\n",
       "      <td>8.632937e+07</td>\n",
       "    </tr>\n",
       "    <tr>\n",
       "      <th>Japanese</th>\n",
       "      <td>8.170627e+07</td>\n",
       "    </tr>\n",
       "    <tr>\n",
       "      <th>German</th>\n",
       "      <td>6.623219e+07</td>\n",
       "    </tr>\n",
       "    <tr>\n",
       "      <th>Dravidian</th>\n",
       "      <td>5.959908e+07</td>\n",
       "    </tr>\n",
       "    <tr>\n",
       "      <th>English</th>\n",
       "      <td>4.231499e+07</td>\n",
       "    </tr>\n",
       "    <tr>\n",
       "      <th>Mestizo</th>\n",
       "      <td>3.554233e+07</td>\n",
       "    </tr>\n",
       "  </tbody>\n",
       "</table>\n",
       "</div>"
      ],
      "text/plain": [
       "                EthnicPop\n",
       "EthnicGrp                \n",
       "Han Chinese  4.975551e+08\n",
       "European     1.928658e+08\n",
       "Indo-Aryan   1.716454e+08\n",
       "Russian      9.275844e+07\n",
       "African      8.632937e+07\n",
       "Japanese     8.170627e+07\n",
       "German       6.623219e+07\n",
       "Dravidian    5.959908e+07\n",
       "English      4.231499e+07\n",
       "Mestizo      3.554233e+07"
      ]
     },
     "execution_count": 10,
     "metadata": {},
     "output_type": "execute_result"
    }
   ],
   "source": [
    "egdata = []\n",
    "for country in document.findall( 'country' ):\n",
    "    for eg in country.iterfind('ethnicgroup'):\n",
    "        egdata.append((country.find('name').text,  float(eg.attrib['percentage']),eg.text ))                              \n",
    "\n",
    "egdf = pd.DataFrame(egdata,columns=['Country', 'PopPctinCountry','EthnicGrp'])\n",
    "egdf.head()\n",
    "egPopdf  = pd.merge(egdf, CtryPopsdf,how ='left' ,on=['Country'] )\n",
    "egPopdf['EthnicPop'] = egPopdf['PopPctinCountry']/100.0*egPopdf['Population']\n",
    "result2 = egPopdf.ix[:,['EthnicGrp','EthnicPop']].groupby('EthnicGrp').aggregate(np.sum).sort('EthnicPop',ascending=False)\n",
    "result2.head(10)"
   ]
  },
  {
   "cell_type": "code",
   "execution_count": null,
   "metadata": {
    "collapsed": true
   },
   "outputs": [],
   "source": []
  },
  {
   "cell_type": "markdown",
   "metadata": {
    "collapsed": true
   },
   "source": [
    "### 4. name and country of: "
   ]
  },
  {
   "cell_type": "code",
   "execution_count": 11,
   "metadata": {
    "collapsed": false
   },
   "outputs": [],
   "source": [
    "#create mapping for country abreviations\n",
    "ctryCodes = {}\n",
    "for country in document.findall( 'country' ):\n",
    "    ctryCodes[country.attrib['car_code']] = country.find('name').text\n",
    "\n",
    "ctryCodes\n",
    "\n",
    "def getCountryNames(X):\n",
    "    decodedCountry = ''\n",
    "    s = X.split()\n",
    "    for a in s:\n",
    "        decodedCountry =  decodedCountry + ctryCodes[a] + ', '\n",
    "    return decodedCountry[:-2].strip()\n",
    "\n",
    "# getCountryNames('ANG CO')\n",
    "# ctryCodesdf =pd.DataFrame(ctryCodes,columns = ['Country','CountryCode'])\n",
    "# ctryCodesdf.head()"
   ]
  },
  {
   "cell_type": "markdown",
   "metadata": {
    "collapsed": true
   },
   "source": [
    "####  a) longest river"
   ]
  },
  {
   "cell_type": "code",
   "execution_count": 12,
   "metadata": {
    "collapsed": false
   },
   "outputs": [
    {
     "data": {
      "text/html": [
       "<div>\n",
       "<table border=\"1\" class=\"dataframe\">\n",
       "  <thead>\n",
       "    <tr style=\"text-align: right;\">\n",
       "      <th></th>\n",
       "      <th>name</th>\n",
       "      <th>Country</th>\n",
       "    </tr>\n",
       "  </thead>\n",
       "  <tbody>\n",
       "    <tr>\n",
       "      <th>174</th>\n",
       "      <td>Amazonas</td>\n",
       "      <td>Colombia, Brazil, Peru</td>\n",
       "    </tr>\n",
       "  </tbody>\n",
       "</table>\n",
       "</div>"
      ],
      "text/plain": [
       "         name                 Country\n",
       "174  Amazonas  Colombia, Brazil, Peru"
      ]
     },
     "execution_count": 12,
     "metadata": {},
     "output_type": "execute_result"
    }
   ],
   "source": [
    "rivers = []\n",
    "for river in document.findall( 'river' ):\n",
    "    if river.find('length') != None:\n",
    "        rivers.append((river.attrib['country'],  river.find('name').text, float(river.find('length').text)))\n",
    "\n",
    "riversdf = pd.DataFrame(rivers,columns=['CountryCode','name','length'])\n",
    "riversdf['Country'] = riversdf['CountryCode'].apply(getCountryNames)\n",
    "\n",
    "riverresult = riversdf.sort('length',ascending = False).head(1)\n",
    "\n",
    "riverresult.ix[:,['name','Country']]"
   ]
  },
  {
   "cell_type": "markdown",
   "metadata": {},
   "source": [
    "####  b) largest lake"
   ]
  },
  {
   "cell_type": "code",
   "execution_count": 13,
   "metadata": {
    "collapsed": false
   },
   "outputs": [
    {
     "data": {
      "text/html": [
       "<div>\n",
       "<table border=\"1\" class=\"dataframe\">\n",
       "  <thead>\n",
       "    <tr style=\"text-align: right;\">\n",
       "      <th></th>\n",
       "      <th>name</th>\n",
       "      <th>Country</th>\n",
       "    </tr>\n",
       "  </thead>\n",
       "  <tbody>\n",
       "    <tr>\n",
       "      <th>54</th>\n",
       "      <td>Caspian Sea</td>\n",
       "      <td>Russia, Azerbaijan, Kazakhstan, Iran, Turkmeni...</td>\n",
       "    </tr>\n",
       "  </tbody>\n",
       "</table>\n",
       "</div>"
      ],
      "text/plain": [
       "           name                                            Country\n",
       "54  Caspian Sea  Russia, Azerbaijan, Kazakhstan, Iran, Turkmeni..."
      ]
     },
     "execution_count": 13,
     "metadata": {},
     "output_type": "execute_result"
    }
   ],
   "source": [
    "lakes=[]\n",
    "for lake in document.findall( 'lake' ):\n",
    "    if lake.find('area') != None: #and lake.find('depth') != None:\n",
    "        lakes.append((lake.attrib['country'],  lake.find('name').text , float(lake.find('area').text))) #, lake.find('depth').text\n",
    "        \n",
    "lakesdf = pd.DataFrame(lakes,columns=['CountryCode','name','area'])\n",
    "lakesdf['Country'] = lakesdf['CountryCode'].apply(getCountryNames)\n",
    "\n",
    "lakeresult = lakesdf.sort('area',ascending = False).head(1)\n",
    "\n",
    "lakeresult.ix[:,['name','Country']]        \n",
    "        "
   ]
  },
  {
   "cell_type": "markdown",
   "metadata": {},
   "source": [
    "####   and c) airport at highest elevation"
   ]
  },
  {
   "cell_type": "code",
   "execution_count": 14,
   "metadata": {
    "collapsed": false
   },
   "outputs": [
    {
     "data": {
      "text/html": [
       "<div>\n",
       "<table border=\"1\" class=\"dataframe\">\n",
       "  <thead>\n",
       "    <tr style=\"text-align: right;\">\n",
       "      <th></th>\n",
       "      <th>name</th>\n",
       "      <th>Country</th>\n",
       "    </tr>\n",
       "  </thead>\n",
       "  <tbody>\n",
       "    <tr>\n",
       "      <th>80</th>\n",
       "      <td>El Alto Intl</td>\n",
       "      <td>Bolivia</td>\n",
       "    </tr>\n",
       "  </tbody>\n",
       "</table>\n",
       "</div>"
      ],
      "text/plain": [
       "            name  Country\n",
       "80  El Alto Intl  Bolivia"
      ]
     },
     "execution_count": 14,
     "metadata": {},
     "output_type": "execute_result"
    }
   ],
   "source": [
    "airports = []\n",
    "for airport in document.findall( 'airport' ):\n",
    "    if airport.find('elevation') != None:\n",
    "        if airport.find('elevation').text != None:\n",
    "            airports.append((airport.attrib['country'],  airport.attrib['iatacode'],airport.find('name').text, float(airport.find('elevation').text)))\n",
    "\n",
    "airportsdf = pd.DataFrame(airports,columns=['CountryCode','AirportCode','name','elev'])\n",
    "airportsdf['Country'] = airportsdf['CountryCode'].apply(getCountryNames)\n",
    "\n",
    "airportresult = airportsdf.sort('elev',ascending = False).head(1)\n",
    "airportresult.head()\n",
    "\n",
    "airportresult.ix[:,['name','Country']]        \n",
    "  \n"
   ]
  },
  {
   "cell_type": "code",
   "execution_count": null,
   "metadata": {
    "collapsed": true
   },
   "outputs": [],
   "source": []
  }
 ],
 "metadata": {
  "kernelspec": {
   "display_name": "Python 2",
   "language": "python",
   "name": "python2"
  },
  "language_info": {
   "codemirror_mode": {
    "name": "ipython",
    "version": 2
   },
   "file_extension": ".py",
   "mimetype": "text/x-python",
   "name": "python",
   "nbconvert_exporter": "python",
   "pygments_lexer": "ipython2",
   "version": "2.7.10"
  }
 },
 "nbformat": 4,
 "nbformat_minor": 0
}
